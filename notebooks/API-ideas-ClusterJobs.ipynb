{
 "cells": [
  {
   "cell_type": "markdown",
   "metadata": {},
   "source": [
    "# API for submitting jobs to cluster\n",
    "\n",
    "Command-line code such as\n",
    "\n",
    "* `maxfilter`\n",
    "* `freesurfer`\n",
    "* `simnibs`\n",
    "\n",
    "as well as wrapped python on-liners such as\n",
    "\n",
    "* `raw.filter()`\n",
    "* `ica`\n",
    "* others?\n",
    "\n",
    "## Basic idea\n",
    "\n",
    "* a hierarchy of objects, general to specific.\n",
    "* common methods for cluster job management\n",
    "* specific command-building methods"
   ]
  },
  {
   "cell_type": "code",
   "execution_count": 65,
   "metadata": {
    "collapsed": false
   },
   "outputs": [],
   "source": [
    "class Cluster(object):\n",
    "    def __init__(self):\n",
    "        self.QSUB_SCHEMA = '''#HEADER\\n{exec_cmd:s}'''\n",
    "        self.info = dict(some='general params',\n",
    "                         default_scrath='/projects/{proj_name:s}/scratch',\n",
    "                         default_maxfilter='/projects/{proj_name:s}/scratch/maxfilter')\n",
    "    def format_schema(self, exec_cmd=None):\n",
    "        return self.QSUB_SCHEMA.format(exec_cmd=exec_cmd)\n",
    "\n",
    "class ClusterJob(Cluster):\n",
    "    def __init__(self, proj_name=None):\n",
    "        super(ClusterJob, self).__init__()\n",
    "        if not proj_name:\n",
    "            raise(ValueError('Jobs associated with specific project'))\n",
    "        self.proj_name = proj_name\n",
    "        self.cmdlist = []\n",
    "    def submit(self, queue='short.q'):\n",
    "        for cmd in self.cmdlist:\n",
    "            print('submit this\\n{:s}'.format(self.format_schema(cmd)))\n",
    "    def status(self):\n",
    "        print('In queue, running, queue status (busy?), ...)')\n",
    "    def kill(self, jobno):\n",
    "        print('qdel {:s})'.format(jobno))\n",
    "    def build_cmd(self):\n",
    "        raise(ValueError('Override in children'))\n",
    "\n",
    "        \n",
    "class Maxfilter(ClusterJob):\n",
    "    def __init__(self, proj_name):\n",
    "        super(Maxfilter, self).__init__(proj_name)\n",
    "    def build_cmd(self, infile, outfile):\n",
    "        self.cmdlist += ['maxfilter {:s} {:s}'.format(infile, outfile)]\n",
    "\n",
    "class Freesurfer(ClusterJob):\n",
    "    def __init__(self, proj_name):\n",
    "        super(Freesurfer, self).__init__(proj_name)\n",
    "    def build_cmd(self, subject, series):\n",
    "        self.cmdlist += [\"recon-all -all -subjid %s -i %s\" % (\n",
    "                    subject, series[0][\"path\"] + \"/\" + series[0][\"files\"][0])]"
   ]
  },
  {
   "cell_type": "code",
   "execution_count": 66,
   "metadata": {
    "collapsed": false
   },
   "outputs": [
    {
     "name": "stdout",
     "output_type": "stream",
     "text": [
      "submit this\n",
      "#HEADER\n",
      "maxfilter foo bar\n"
     ]
    }
   ],
   "source": [
    "mf = Maxfilter('myproj')\n",
    "mf.build_cmd('foo','bar')\n",
    "mf.submit()"
   ]
  },
  {
   "cell_type": "code",
   "execution_count": 67,
   "metadata": {
    "collapsed": false
   },
   "outputs": [
    {
     "name": "stdout",
     "output_type": "stream",
     "text": [
      "submit this\n",
      "#HEADER\n",
      "recon-all -all -subjid sample -i /projects/foo/raw/0001/blah/blah/0872359871590438157.dcm\n"
     ]
    }
   ],
   "source": [
    "fs = Freesurfer('myproj')\n",
    "# This would be given by appropriate call to e.g. Query.filter_series()\n",
    "series = [dict(path='/projects/foo/raw/0001/blah/blah', files=['0872359871590438157.dcm']),]\n",
    "fs.build_cmd('sample', series)\n",
    "fs.submit()"
   ]
  }
 ],
 "metadata": {
  "hide_input": false,
  "kernelspec": {
   "display_name": "Python 2",
   "language": "python",
   "name": "python2"
  },
  "language_info": {
   "codemirror_mode": {
    "name": "ipython",
    "version": 2
   },
   "file_extension": ".py",
   "mimetype": "text/x-python",
   "name": "python",
   "nbconvert_exporter": "python",
   "pygments_lexer": "ipython2",
   "version": "2.7.11"
  }
 },
 "nbformat": 4,
 "nbformat_minor": 0
}
