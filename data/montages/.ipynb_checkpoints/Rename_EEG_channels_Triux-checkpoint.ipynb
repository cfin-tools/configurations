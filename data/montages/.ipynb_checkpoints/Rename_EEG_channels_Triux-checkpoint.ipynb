{
 "cells": [
  {
   "cell_type": "markdown",
   "metadata": {},
   "source": [
    "# Rename EEG channels with 10/20-names\n",
    "\n",
    "The Neuromag data acquisition system names the EEG channels according to the order they are plugged into the EEG amplifier. To obtain the more traditional and spatially informative names, we need to provide a mapping from index- to 10/20-names.\n",
    "\n",
    "The channel layout is show below."
   ]
  },
  {
   "cell_type": "markdown",
   "metadata": {},
   "source": [
    "<img src=\"Aarhus-Triux-75Ch-Layout.png\" alt=\"Drawing\" style=\"width: 600px;\"/>"
   ]
  },
  {
   "cell_type": "markdown",
   "metadata": {},
   "source": [
    "## Load the default mapping\n",
    "\n",
    "First add the location to the map itself, and a convenience function (`read_eeg_mapping_triux`) for reading it, to your python path."
   ]
  },
  {
   "cell_type": "code",
   "execution_count": 6,
   "metadata": {
    "collapsed": true
   },
   "outputs": [],
   "source": [
    "import sys\n",
    "sys.path.append('/usr/local/common/meeg-cfin/configurations/data/montages')"
   ]
  },
  {
   "cell_type": "markdown",
   "metadata": {},
   "source": [
    "Then read the mapping"
   ]
  },
  {
   "cell_type": "code",
   "execution_count": 11,
   "metadata": {
    "collapsed": false
   },
   "outputs": [],
   "source": [
    "from montage_to_mapping_triux import read_eeg_mapping_triux\n",
    "mapping = read_eeg_mapping_triux(sys.path[-1] + '/easycap-Aar75-mapping.json')\n",
    "# For debugging:\n",
    "# import os.path as op\n",
    "# mapping = read_eeg_mapping_triux(op.abspath('./') + '/easycap-Aar75-mapping.json')"
   ]
  },
  {
   "cell_type": "markdown",
   "metadata": {},
   "source": [
    "## Rename the channels of loaded data\n",
    "\n",
    "This should work for `raw`, `epochs` and `evoked` objects:"
   ]
  },
  {
   "cell_type": "code",
   "execution_count": 16,
   "metadata": {
    "collapsed": false
   },
   "outputs": [
    {
     "name": "stdout",
     "output_type": "stream",
     "text": [
      "Opening raw data file /Users/cjb/src/git/meeg-cfin/configurations/data/montages/demo_raw.fif.gz...\n",
      "    Read a total of 1 projection items:\n",
      "        Average EEG reference (1 x 75)  idle\n",
      "    Range : 371000 ... 371001 =    371.000 ...   371.001 secs\n",
      "Ready.\n"
     ]
    }
   ],
   "source": [
    "from mne.io import read_raw_fif\n",
    "raw = read_raw_fif('demo_raw.fif.gz')"
   ]
  },
  {
   "cell_type": "markdown",
   "metadata": {},
   "source": [
    "Just use the `rename_channels` method with the loaded mapping."
   ]
  },
  {
   "cell_type": "code",
   "execution_count": 21,
   "metadata": {
    "collapsed": false
   },
   "outputs": [
    {
     "ename": "ValueError",
     "evalue": "Channel name(s) in mapping missing from info: [u'EEG001' u'EEG002' u'EEG003' u'EEG004' u'EEG005' u'EEG006' u'EEG007'\n u'EEG008' u'EEG009' u'EEG010' u'EEG011' u'EEG012' u'EEG013' u'EEG014'\n u'EEG015' u'EEG016' u'EEG017' u'EEG018' u'EEG019' u'EEG020' u'EEG021'\n u'EEG022' u'EEG023' u'EEG024' u'EEG025' u'EEG026' u'EEG027' u'EEG028'\n u'EEG029' u'EEG030' u'EEG031' u'EEG032' u'EEG033' u'EEG034' u'EEG035'\n u'EEG036' u'EEG037' u'EEG038' u'EEG039' u'EEG040' u'EEG041' u'EEG042'\n u'EEG043' u'EEG044' u'EEG045' u'EEG046' u'EEG047' u'EEG048' u'EEG049'\n u'EEG050' u'EEG051' u'EEG052' u'EEG053' u'EEG054' u'EEG055' u'EEG056'\n u'EEG057' u'EEG058' u'EEG059' u'EEG060' u'EEG061' u'EEG062' u'EEG063'\n u'EEG064' u'EEG065' u'EEG066' u'EEG067' u'EEG068' u'EEG069' u'EEG070'\n u'EEG071' u'EEG072' u'EEG073' u'EEG074' u'EEG075']",
     "output_type": "error",
     "traceback": [
      "\u001b[0;31m---------------------------------------------------------------------------\u001b[0m",
      "\u001b[0;31mValueError\u001b[0m                                Traceback (most recent call last)",
      "\u001b[0;32m<ipython-input-21-b78be5e36789>\u001b[0m in \u001b[0;36m<module>\u001b[0;34m()\u001b[0m\n\u001b[1;32m      1\u001b[0m \u001b[0mch_names_before\u001b[0m \u001b[0;34m=\u001b[0m \u001b[0mraw\u001b[0m\u001b[0;34m.\u001b[0m\u001b[0mch_names\u001b[0m\u001b[0;34m\u001b[0m\u001b[0m\n\u001b[0;32m----> 2\u001b[0;31m \u001b[0mraw\u001b[0m\u001b[0;34m.\u001b[0m\u001b[0mrename_channels\u001b[0m\u001b[0;34m(\u001b[0m\u001b[0mmapping\u001b[0m\u001b[0;34m=\u001b[0m\u001b[0mmapping\u001b[0m\u001b[0;34m)\u001b[0m\u001b[0;34m\u001b[0m\u001b[0m\n\u001b[0m\u001b[1;32m      3\u001b[0m \u001b[0mch_names_after\u001b[0m \u001b[0;34m=\u001b[0m \u001b[0mraw\u001b[0m\u001b[0;34m.\u001b[0m\u001b[0mch_names\u001b[0m\u001b[0;34m\u001b[0m\u001b[0m\n",
      "\u001b[0;32m/Users/cjb/src/git/mne-python/mne/channels/channels.pyc\u001b[0m in \u001b[0;36mrename_channels\u001b[0;34m(self, mapping)\u001b[0m\n\u001b[1;32m    347\u001b[0m         \u001b[0;34m.\u001b[0m\u001b[0;34m.\u001b[0m \u001b[0mversionadded\u001b[0m\u001b[0;34m:\u001b[0m\u001b[0;34m:\u001b[0m \u001b[0;36m0.9\u001b[0m\u001b[0;36m.0\u001b[0m\u001b[0;34m\u001b[0m\u001b[0m\n\u001b[1;32m    348\u001b[0m         \"\"\"\n\u001b[0;32m--> 349\u001b[0;31m         \u001b[0mrename_channels\u001b[0m\u001b[0;34m(\u001b[0m\u001b[0mself\u001b[0m\u001b[0;34m.\u001b[0m\u001b[0minfo\u001b[0m\u001b[0;34m,\u001b[0m \u001b[0mmapping\u001b[0m\u001b[0;34m)\u001b[0m\u001b[0;34m\u001b[0m\u001b[0m\n\u001b[0m\u001b[1;32m    350\u001b[0m \u001b[0;34m\u001b[0m\u001b[0m\n\u001b[1;32m    351\u001b[0m     \u001b[0;34m@\u001b[0m\u001b[0mverbose\u001b[0m\u001b[0;34m\u001b[0m\u001b[0m\n",
      "\u001b[0;32m/Users/cjb/src/git/mne-python/mne/channels/channels.pyc\u001b[0m in \u001b[0;36mrename_channels\u001b[0;34m(info, mapping)\u001b[0m\n\u001b[1;32m    754\u001b[0m         \u001b[0;32mif\u001b[0m \u001b[0many\u001b[0m\u001b[0;34m(\u001b[0m\u001b[0mmissing\u001b[0m\u001b[0;34m)\u001b[0m\u001b[0;34m:\u001b[0m\u001b[0;34m\u001b[0m\u001b[0m\n\u001b[1;32m    755\u001b[0m             raise ValueError(\"Channel name(s) in mapping missing from info: \"\n\u001b[0;32m--> 756\u001b[0;31m                              \"%s\" % np.array(orig_names)[np.array(missing)])\n\u001b[0m\u001b[1;32m    757\u001b[0m         new_names = [(ch_names.index(ch_name), new_name)\n\u001b[1;32m    758\u001b[0m                      for ch_name, new_name in mapping.items()]\n",
      "\u001b[0;31mValueError\u001b[0m: Channel name(s) in mapping missing from info: [u'EEG001' u'EEG002' u'EEG003' u'EEG004' u'EEG005' u'EEG006' u'EEG007'\n u'EEG008' u'EEG009' u'EEG010' u'EEG011' u'EEG012' u'EEG013' u'EEG014'\n u'EEG015' u'EEG016' u'EEG017' u'EEG018' u'EEG019' u'EEG020' u'EEG021'\n u'EEG022' u'EEG023' u'EEG024' u'EEG025' u'EEG026' u'EEG027' u'EEG028'\n u'EEG029' u'EEG030' u'EEG031' u'EEG032' u'EEG033' u'EEG034' u'EEG035'\n u'EEG036' u'EEG037' u'EEG038' u'EEG039' u'EEG040' u'EEG041' u'EEG042'\n u'EEG043' u'EEG044' u'EEG045' u'EEG046' u'EEG047' u'EEG048' u'EEG049'\n u'EEG050' u'EEG051' u'EEG052' u'EEG053' u'EEG054' u'EEG055' u'EEG056'\n u'EEG057' u'EEG058' u'EEG059' u'EEG060' u'EEG061' u'EEG062' u'EEG063'\n u'EEG064' u'EEG065' u'EEG066' u'EEG067' u'EEG068' u'EEG069' u'EEG070'\n u'EEG071' u'EEG072' u'EEG073' u'EEG074' u'EEG075']"
     ]
    }
   ],
   "source": [
    "ch_names_before = raw.ch_names\n",
    "raw.rename_channels(mapping=mapping)\n",
    "ch_names_after = raw.ch_names"
   ]
  },
  {
   "cell_type": "markdown",
   "metadata": {},
   "source": [
    "Take a look at the first 5 channel names before and after"
   ]
  },
  {
   "cell_type": "code",
   "execution_count": 22,
   "metadata": {
    "collapsed": false
   },
   "outputs": [
    {
     "name": "stdout",
     "output_type": "stream",
     "text": [
      "Fp1 -> Fp1\n",
      "Fpz -> Fpz\n",
      "Fp2 -> Fp2\n",
      "AF7 -> AF7\n",
      "AF3 -> AF3\n"
     ]
    }
   ],
   "source": [
    "for ii in range(5):\n",
    "    print('{:s} -> {:s}'.format(ch_names_before[ii], ch_names_after[ii]))"
   ]
  }
 ],
 "metadata": {
  "hide_input": false,
  "kernelspec": {
   "display_name": "Python 2",
   "language": "python",
   "name": "python2"
  },
  "language_info": {
   "codemirror_mode": {
    "name": "ipython",
    "version": 2
   },
   "file_extension": ".py",
   "mimetype": "text/x-python",
   "name": "python",
   "nbconvert_exporter": "python",
   "pygments_lexer": "ipython2",
   "version": "2.7.11"
  }
 },
 "nbformat": 4,
 "nbformat_minor": 0
}
